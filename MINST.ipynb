{
  "nbformat": 4,
  "nbformat_minor": 0,
  "metadata": {
    "colab": {
      "name": "Untitled0.ipynb",
      "version": "0.3.2",
      "provenance": [],
      "include_colab_link": true
    },
    "kernelspec": {
      "name": "python3",
      "display_name": "Python 3"
    }
  },
  "cells": [
    {
      "cell_type": "markdown",
      "metadata": {
        "id": "view-in-github",
        "colab_type": "text"
      },
      "source": [
        "<a href=\"https://colab.research.google.com/github/PriyankaRBT/BackgroundGenerator/blob/master/MINST.ipynb\" target=\"_parent\"><img src=\"https://colab.research.google.com/assets/colab-badge.svg\" alt=\"Open In Colab\"/></a>"
      ]
    },
    {
      "metadata": {
        "id": "vo_YqjgvIDNv",
        "colab_type": "code",
        "colab": {
          "base_uri": "https://localhost:8080/",
          "height": 605
        },
        "outputId": "a58c3d03-74ae-4f23-b166-fc4d82b1cf38"
      },
      "cell_type": "code",
      "source": [
        "import tensorflow as tf \n",
        "import matplotlib.pyplot as plt \n",
        "import numpy as np\n",
        "\n",
        "\n",
        "mnist = tf.keras.datasets.mnist #28X28 of hand written digits 0-9\n",
        "(x_train, y_train), (x_test, y_test) = mnist.load_data()\n",
        "\n",
        "#step 1 : Normalize or scale the data\n",
        "\n",
        "x_train = tf.keras.utils.normalize(x_train, axis=1)\n",
        "x_test = tf.keras.utils.normalize(x_test, axis=1)\n",
        "\n",
        "#plt.imshow(x_train[0])\n",
        "#plt.show()\n",
        "#print(x_train[0])\n",
        "\n",
        "#step2: model\n",
        "model = tf.keras.models.Sequential()\n",
        "model.add(tf.keras.layers.Flatten(input_shape = x_train[0].shape))\n",
        "model.add(tf.keras.layers.Dense(128, activation = tf.nn.relu))\n",
        "model.add(tf.keras.layers.Dense(128, activation = tf.nn.relu))\n",
        "model.add(tf.keras.layers.Dense(10, activation = tf.nn.softmax))\n",
        "\n",
        "\n",
        "#define parameters for training model\n",
        "\n",
        "model.compile(optimizer='adam',\n",
        "              loss='sparse_categorical_crossentropy',\n",
        "              metrics=['accuracy'])\n",
        "\n",
        "model.fit(x_train,y_train, epochs=3)\n",
        "\n",
        "val_loss, val_acc = model.evaluate(x_test,y_test)\n",
        "print(val_loss,val_acc)\n",
        "\n",
        "model.save('epic_num_reader.model')\n",
        "new_model = tf.keras.models.load_model('epic_num_reader.model')\n",
        "predictions = new_model.predict([x_test])\n",
        "print(np.argmax(predictions[0]))\n",
        "plt.imshow(x_test[0])\n",
        "plt.show()\n"
      ],
      "execution_count": 1,
      "outputs": [
        {
          "output_type": "stream",
          "text": [
            "Downloading data from https://storage.googleapis.com/tensorflow/tf-keras-datasets/mnist.npz\n",
            "11493376/11490434 [==============================] - 0s 0us/step\n",
            "WARNING:tensorflow:From /usr/local/lib/python3.6/dist-packages/tensorflow/python/ops/resource_variable_ops.py:435: colocate_with (from tensorflow.python.framework.ops) is deprecated and will be removed in a future version.\n",
            "Instructions for updating:\n",
            "Colocations handled automatically by placer.\n",
            "Epoch 1/3\n",
            "60000/60000 [==============================] - 9s 154us/sample - loss: 0.2690 - acc: 0.9203\n",
            "Epoch 2/3\n",
            "60000/60000 [==============================] - 9s 145us/sample - loss: 0.1101 - acc: 0.9656\n",
            "Epoch 3/3\n",
            "60000/60000 [==============================] - 8s 130us/sample - loss: 0.0743 - acc: 0.9765\n",
            "10000/10000 [==============================] - 1s 51us/sample - loss: 0.1065 - acc: 0.9661\n",
            "0.10652987317480146 0.9661\n",
            "7\n"
          ],
          "name": "stdout"
        },
        {
          "output_type": "display_data",
          "data": {
            "image/png": "[encoded data removed]",
            "text/plain": [
              "<Figure size 576x396 with 1 Axes>"
            ]
          },
          "metadata": {
            "tags": []
          }
        }
      ]
    }
  ]
}